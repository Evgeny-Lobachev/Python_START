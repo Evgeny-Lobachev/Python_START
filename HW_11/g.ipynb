{
 "cells": [
  {
   "attachments": {},
   "cell_type": "markdown",
   "metadata": {},
   "source": [
    "**Домашнее задание №11**\n",
    "\n",
    "Даны две функции: \n",
    "_f(x) = x^3 - 50x_ и _g(x) = -x^4 + 88x^2 - 241_\n",
    "\n",
    "Требуется:\n",
    "\n",
    "1. Найти координаты точек пересечения (Прим: в числовом виде, а не в символьном).\n",
    "2. Построить графики функций в одной системе координат.\n",
    "3. Построить график функции пересечения (из пункта 1)"
   ]
  },
  {
   "cell_type": "code",
   "execution_count": null,
   "metadata": {},
   "outputs": [
    {
     "ename": "",
     "evalue": "",
     "output_type": "error",
     "traceback": [
      "\u001b[1;31mFailed to start the Kernel. \n",
      "\u001b[1;31mUnable to start Kernel 'Python 3.10.1' due to connection timeout. \n",
      "\u001b[1;31mView Jupyter <a href='command:jupyter.viewOutput'>log</a> for further details."
     ]
    }
   ],
   "source": [
    "from sympy import *\n",
    "from sympy.plotting import plot\n",
    "import matplotlib"
   ]
  },
  {
   "cell_type": "code",
   "execution_count": null,
   "metadata": {},
   "outputs": [
    {
     "ename": "",
     "evalue": "",
     "output_type": "error",
     "traceback": [
      "\u001b[1;31mFailed to start the Kernel. \n",
      "\u001b[1;31mUnable to start Kernel 'Python 3.10.1' due to connection timeout. \n",
      "\u001b[1;31mView Jupyter <a href='command:jupyter.viewOutput'>log</a> for further details."
     ]
    }
   ],
   "source": [
    "from symtable import Symbol\n",
    "\n",
    "\n",
    "x = Symbol('x')\n",
    "f = x**3 - 50*x\n",
    "g = -x**4 + 88*x**2 - 241"
   ]
  },
  {
   "attachments": {},
   "cell_type": "markdown",
   "metadata": {},
   "source": [
    "1. Нахождение координат точек пересечения (Прим: в числовом виде, а не в символьном)."
   ]
  },
  {
   "cell_type": "code",
   "execution_count": null,
   "metadata": {},
   "outputs": [
    {
     "ename": "",
     "evalue": "",
     "output_type": "error",
     "traceback": [
      "\u001b[1;31mFailed to start the Kernel. \n",
      "\u001b[1;31mUnable to start Kernel 'Python 3.10.1' due to connection timeout. \n",
      "\u001b[1;31mView Jupyter <a href='command:jupyter.viewOutput'>log</a> for further details."
     ]
    }
   ],
   "source": [
    "res = solve (f - g)"
   ]
  }
 ],
 "metadata": {
  "kernelspec": {
   "display_name": "Python 3",
   "language": "python",
   "name": "python3"
  },
  "language_info": {
   "name": "python",
   "version": "3.10.1 (tags/v3.10.1:2cd268a, Dec  6 2021, 19:10:37) [MSC v.1929 64 bit (AMD64)]"
  },
  "orig_nbformat": 4,
  "vscode": {
   "interpreter": {
    "hash": "0383b36f79b5fb6950c74019a2c5967d2f4409e8ed941bf3f2cead337342bb3e"
   }
  }
 },
 "nbformat": 4,
 "nbformat_minor": 2
}
